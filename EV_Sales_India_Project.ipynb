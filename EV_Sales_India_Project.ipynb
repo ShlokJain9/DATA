{
 "cells": [
  {
   "cell_type": "markdown",
   "id": "2b7f658b",
   "metadata": {},
   "source": [
    "# Electric Vehicle Sales by State in India\n",
    "Machine Learning Project (3-Year Experience Level)\n",
    "\n",
    "Analyze and predict the sales of Electric Vehicles (EV) by state in India."
   ]
  },
  {
   "cell_type": "code",
   "execution_count": null,
   "id": "5e2854c7",
   "metadata": {},
   "outputs": [],
   "source": [
    "# Step 1: Data Collection\n",
    "import pandas as pd\n",
    "import numpy as np\n",
    "\n",
    "# Load the dataset\n",
    "df = pd.read_csv(r\"C:\\Users\\MY HP\\Downloads\\Electric Vehicle Sales by State in India.csv\")\n",
    "\n",
    "# Display first few rows\n",
    "df.head()"
   ]
  },
  {
   "cell_type": "code",
   "execution_count": null,
   "id": "93969895",
   "metadata": {},
   "outputs": [],
   "source": [
    "# Step 2: Data Preprocessing\n",
    "# Convert 'Date' column to datetime format\n",
    "df['Date'] = pd.to_datetime(df['Date'])\n",
    "\n",
    "# Check for missing values\n",
    "print(df.isnull().sum())\n",
    "\n",
    "# Fill missing numerical and categorical values\n",
    "df['EV_Sales_Quantity'].fillna(df['EV_Sales_Quantity'].median(), inplace=True)\n",
    "df.fillna(df.mode().iloc[0], inplace=True)\n",
    "\n",
    "df.head()"
   ]
  },
  {
   "cell_type": "code",
   "execution_count": null,
   "id": "7216946a",
   "metadata": {},
   "outputs": [],
   "source": [
    "# Step 3: Exploratory Data Analysis (EDA)\n",
    "import matplotlib.pyplot as plt\n",
    "import seaborn as sns\n",
    "\n",
    "# EV sales over the years by state\n",
    "plt.figure(figsize=(10, 6))\n",
    "sns.lineplot(data=df, x='Year', y='EV_Sales_Quantity', hue='State')\n",
    "plt.title('EV Sales by State over the Years')\n",
    "plt.show()\n",
    "\n",
    "# Sales by vehicle category\n",
    "plt.figure(figsize=(10, 6))\n",
    "sns.barplot(x='Vehicle_Category', y='EV_Sales_Quantity', data=df, ci=None)\n",
    "plt.title('EV Sales by Vehicle Category')\n",
    "plt.show()"
   ]
  },
  {
   "cell_type": "code",
   "execution_count": null,
   "id": "443cdc54",
   "metadata": {},
   "outputs": [],
   "source": [
    "# Step 4: Feature Engineering\n",
    "# Extract Month and Day from Date\n",
    "df['Month'] = df['Date'].dt.month\n",
    "df['Day'] = df['Date'].dt.day\n",
    "\n",
    "# One-hot encode categorical variables\n",
    "df_encoded = pd.get_dummies(df, columns=['State', 'Vehicle_Class', 'Vehicle_Category', 'Vehicle_Type'], drop_first=True)\n",
    "\n",
    "# Drop unnecessary columns\n",
    "df_encoded.drop(['Date', 'Month_Name'], axis=1, inplace=True)\n",
    "\n",
    "df_encoded.head()"
   ]
  },
  {
   "cell_type": "code",
   "execution_count": null,
   "id": "ad4d4e06",
   "metadata": {},
   "outputs": [],
   "source": [
    "# Step 5: Modeling\n",
    "from sklearn.model_selection import train_test_split\n",
    "from sklearn.ensemble import RandomForestRegressor\n",
    "from sklearn.metrics import mean_squared_error\n",
    "\n",
    "# Split data into features and target\n",
    "X = df_encoded.drop('EV_Sales_Quantity', axis=1)\n",
    "y = df_encoded['EV_Sales_Quantity']\n",
    "\n",
    "# Train-test split\n",
    "X_train, X_test, y_train, y_test = train_test_split(X, y, test_size=0.2, random_state=42)\n",
    "\n",
    "# Train Random Forest Regressor\n",
    "model = RandomForestRegressor(n_estimators=100, random_state=42)\n",
    "model.fit(X_train, y_train)\n",
    "\n",
    "# Predict\n",
    "y_pred = model.predict(X_test)\n",
    "\n",
    "# Evaluate\n",
    "mse = mean_squared_error(y_test, y_pred)\n",
    "rmse = np.sqrt(mse)\n",
    "print(f'Root Mean Squared Error: {rmse}')"
   ]
  },
  {
   "cell_type": "code",
   "execution_count": null,
   "id": "d331f870",
   "metadata": {},
   "outputs": [],
   "source": [
    "# Step 6: Model Evaluation\n",
    "# Actual vs predicted sales\n",
    "plt.figure(figsize=(10, 6))\n",
    "plt.scatter(y_test, y_pred)\n",
    "plt.title('Actual vs Predicted EV Sales')\n",
    "plt.xlabel('Actual EV Sales')\n",
    "plt.ylabel('Predicted EV Sales')\n",
    "plt.show()\n",
    "\n",
    "# Feature importance\n",
    "importance = model.feature_importances_\n",
    "feature_importance = pd.Series(importance, index=X_train.columns).sort_values(ascending=False)\n",
    "\n",
    "plt.figure(figsize=(10, 6))\n",
    "feature_importance.head(20).plot(kind='bar')\n",
    "plt.title('Top 20 Feature Importance')\n",
    "plt.show()"
   ]
  },
  {
   "cell_type": "markdown",
   "id": "2557fb98",
   "metadata": {},
   "source": [
    "# Step 7: Conclusion\n",
    "- Cleaned and preprocessed EV sales dataset.\n",
    "\n",
    "- Extracted date features and encoded categorical variables.\n",
    "\n",
    "- Built a Random Forest Regressor to predict EV sales.\n",
    "\n",
    "- Evaluated the model using RMSE.\n",
    "\n",
    "- Visualized trends, sales by state, vehicle category, and feature importance."
   ]
  }
 ],
 "metadata": {},
 "nbformat": 4,
 "nbformat_minor": 5
}
